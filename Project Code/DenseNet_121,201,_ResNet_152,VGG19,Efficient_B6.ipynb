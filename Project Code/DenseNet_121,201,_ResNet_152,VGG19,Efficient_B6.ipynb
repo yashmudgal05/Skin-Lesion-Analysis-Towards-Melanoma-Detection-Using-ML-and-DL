{
  "nbformat": 4,
  "nbformat_minor": 0,
  "metadata": {
    "colab": {
      "provenance": [],
      "gpuType": "T4"
    },
    "kernelspec": {
      "name": "python3",
      "display_name": "Python 3"
    },
    "language_info": {
      "name": "python"
    },
    "gpuClass": "standard"
  },
  "cells": [
    {
      "cell_type": "code",
      "execution_count": null,
      "metadata": {
        "colab": {
          "base_uri": "https://localhost:8080/"
        },
        "id": "2hhduOt3JbkU",
        "outputId": "5c25aad8-fc4a-4b07-c4b3-a5bb1a7b357e"
      },
      "outputs": [
        {
          "output_type": "stream",
          "name": "stderr",
          "text": [
            "/usr/local/lib/python3.10/dist-packages/torch/utils/data/dataloader.py:560: UserWarning: This DataLoader will create 4 worker processes in total. Our suggested max number of worker in current system is 2, which is smaller than what this DataLoader is going to create. Please be aware that excessive worker creation might get DataLoader running slow or even freeze, lower the worker number to avoid potential slowness/freeze if necessary.\n",
            "  warnings.warn(_create_warning_msg(\n"
          ]
        }
      ],
      "source": [
        "import torch\n",
        "import torch.nn as nn\n",
        "import torch.optim as optim\n",
        "from torchvision import datasets, models, transforms\n",
        "\n",
        "data_dir = '/content/drive/MyDrive/programs/data'  # Replace with the actual path to your data directory\n",
        "\n",
        "# Define the transformations for the data\n",
        "data_transforms = {\n",
        "    'train': transforms.Compose([\n",
        "        transforms.RandomResizedCrop(224),\n",
        "        transforms.RandomHorizontalFlip(),\n",
        "        transforms.ToTensor(),\n",
        "        transforms.Normalize([0.485, 0.456, 0.406], [0.229, 0.224, 0.225])\n",
        "    ]),\n",
        "    'test': transforms.Compose([\n",
        "        transforms.Resize(256),\n",
        "        transforms.CenterCrop(224),\n",
        "        transforms.ToTensor(),\n",
        "        transforms.Normalize([0.485, 0.456, 0.406], [0.229, 0.224, 0.225])\n",
        "    ])\n",
        "}\n",
        "\n",
        "# Load the datasets with ImageFolder\n",
        "image_datasets = {\n",
        "    x: datasets.ImageFolder(\n",
        "        root=data_dir + '/' + x,\n",
        "        transform=data_transforms[x]\n",
        "    )\n",
        "    for x in ['train', 'test']\n",
        "}\n",
        "\n",
        "# Create the data loaders\n",
        "dataloaders = {\n",
        "    x: torch.utils.data.DataLoader(\n",
        "        image_datasets[x],\n",
        "        batch_size=32,\n",
        "        shuffle=True,\n",
        "        num_workers=4\n",
        "    )\n",
        "    for x in ['train', 'test']\n",
        "}\n"
      ]
    },
    {
      "cell_type": "code",
      "source": [
        "# define DenseNet-121 architecture\n",
        "model = models.densenet121(pretrained=True)\n",
        "num_features = model.classifier.in_features\n",
        "model.classifier = nn.Linear(num_features, 2)  # Assuming 2 classes (benign and malignant)\n",
        "# defining loss function and optimizer:\n",
        "criterion = nn.CrossEntropyLoss()\n",
        "optimizer = optim.SGD(model.parameters(), lr=0.001, momentum=0.9)"
      ],
      "metadata": {
        "colab": {
          "base_uri": "https://localhost:8080/"
        },
        "id": "nCJiJ-_9Mpqs",
        "outputId": "3dffacf9-0679-4fce-cd48-a1d32451124b"
      },
      "execution_count": null,
      "outputs": [
        {
          "output_type": "stream",
          "name": "stderr",
          "text": [
            "/usr/local/lib/python3.10/dist-packages/torchvision/models/_utils.py:208: UserWarning: The parameter 'pretrained' is deprecated since 0.13 and may be removed in the future, please use 'weights' instead.\n",
            "  warnings.warn(\n",
            "/usr/local/lib/python3.10/dist-packages/torchvision/models/_utils.py:223: UserWarning: Arguments other than a weight enum or `None` for 'weights' are deprecated since 0.13 and may be removed in the future. The current behavior is equivalent to passing `weights=DenseNet121_Weights.IMAGENET1K_V1`. You can also use `weights=DenseNet121_Weights.DEFAULT` to get the most up-to-date weights.\n",
            "  warnings.warn(msg)\n",
            "Downloading: \"https://download.pytorch.org/models/densenet121-a639ec97.pth\" to /root/.cache/torch/hub/checkpoints/densenet121-a639ec97.pth\n",
            "100%|██████████| 30.8M/30.8M [00:00<00:00, 169MB/s] \n"
          ]
        }
      ]
    },
    {
      "cell_type": "code",
      "source": [
        "# training the model\n",
        "device = torch.device(\"cuda:0\" if torch.cuda.is_available() else \"cpu\")\n",
        "model = model.to(device)\n",
        "\n",
        "num_epochs = 10  # Adjust as needed\n",
        "\n",
        "for epoch in range(num_epochs):\n",
        "    print(f\"Epoch {epoch+1}/{num_epochs}\")\n",
        "    print(\"-\" * 10)\n",
        "\n",
        "    # Training phase\n",
        "    model.train()\n",
        "    running_loss = 0.0\n",
        "\n",
        "    for inputs, labels in dataloaders['train']:\n",
        "        inputs = inputs.to(device)\n",
        "        labels = labels.to(device)\n",
        "\n",
        "        optimizer.zero_grad()\n",
        "\n",
        "        outputs = model(inputs)\n",
        "        loss = criterion(outputs, labels)\n",
        "        loss.backward()\n",
        "        optimizer.step()\n",
        "\n",
        "        running_loss += loss.item()\n",
        "\n",
        "    # Calculate average training loss\n",
        "    train_loss = running_loss / len(dataloaders['train'])\n",
        "\n",
        "    # Evaluation phase\n",
        "    model.eval()\n",
        "    correct_predictions = 0\n",
        "\n",
        "    with torch.no_grad():\n",
        "            for inputs, labels in dataloaders['test']:\n",
        "              inputs = inputs.to(device)\n",
        "              labels = labels.to(device)\n",
        "\n",
        "              outputs = model(inputs)\n",
        "              _, predicted = torch.max(outputs, 1)\n",
        "              correct_predictions += (predicted == labels).sum().item()\n",
        "\n",
        "    # Calculate accuracy on the test set\n",
        "    accuracy = correct_predictions / len(dataloaders['test'].dataset)\n",
        "\n",
        "    # Print the training loss and test accuracy for each epoch\n",
        "    print(f\"Training Loss: {train_loss:.4f}   Test Accuracy: {accuracy:.4f}\")"
      ],
      "metadata": {
        "colab": {
          "base_uri": "https://localhost:8080/"
        },
        "id": "T_TCcAb4M0u_",
        "outputId": "f2e7ee3c-6d49-41df-c2e8-4f71e118e637"
      },
      "execution_count": null,
      "outputs": [
        {
          "output_type": "stream",
          "name": "stdout",
          "text": [
            "Epoch 1/10\n",
            "----------\n",
            "Training Loss: 0.4287   Test Accuracy: 0.8288\n",
            "Epoch 2/10\n",
            "----------\n",
            "Training Loss: 0.3284   Test Accuracy: 0.8303\n",
            "Epoch 3/10\n",
            "----------\n",
            "Training Loss: 0.2819   Test Accuracy: 0.8758\n",
            "Epoch 4/10\n",
            "----------\n",
            "Training Loss: 0.2780   Test Accuracy: 0.8485\n",
            "Epoch 5/10\n",
            "----------\n",
            "Training Loss: 0.2451   Test Accuracy: 0.8894\n",
            "Epoch 6/10\n",
            "----------\n",
            "Training Loss: 0.2253   Test Accuracy: 0.8894\n",
            "Epoch 7/10\n",
            "----------\n",
            "Training Loss: 0.2255   Test Accuracy: 0.8848\n",
            "Epoch 8/10\n",
            "----------\n",
            "Training Loss: 0.2101   Test Accuracy: 0.9015\n",
            "Epoch 9/10\n",
            "----------\n",
            "Training Loss: 0.1952   Test Accuracy: 0.8924\n",
            "Epoch 10/10\n",
            "----------\n",
            "Training Loss: 0.1726   Test Accuracy: 0.9030\n"
          ]
        }
      ]
    },
    {
      "cell_type": "code",
      "source": [
        "print(accuracy)"
      ],
      "metadata": {
        "colab": {
          "base_uri": "https://localhost:8080/"
        },
        "id": "ht2hzdVfNKJW",
        "outputId": "f37405c4-87e5-4ea0-bb28-9661825d635f"
      },
      "execution_count": null,
      "outputs": [
        {
          "output_type": "stream",
          "name": "stdout",
          "text": [
            "0.9030303030303031\n"
          ]
        }
      ]
    },
    {
      "cell_type": "code",
      "source": [
        "#ResNet-152"
      ],
      "metadata": {
        "id": "_HjV1b7mPTWX"
      },
      "execution_count": null,
      "outputs": []
    },
    {
      "cell_type": "code",
      "source": [
        "import torch\n",
        "import torch.nn as nn\n",
        "import torch.optim as optim\n",
        "from torchvision.models import resnet152\n",
        "\n",
        "# Load the pre-trained ResNet-152 model\n",
        "model_resnet = resnet152(pretrained=True)\n",
        "\n",
        "# Modify the last fully connected layer to match the number of classes in your problem\n",
        "num_features = model_resnet.fc.in_features\n",
        "model_resnet.fc = nn.Linear(num_features, 2)  # Assuming 2 classes (benign and malignant)\n",
        "\n",
        "# Define the loss function and optimizer\n",
        "criterion = nn.CrossEntropyLoss()\n",
        "optimizer = optim.SGD(model_resnet.parameters(), lr=0.001, momentum=0.9)"
      ],
      "metadata": {
        "colab": {
          "base_uri": "https://localhost:8080/"
        },
        "id": "P4XbVl3QPzbD",
        "outputId": "ef3d4c2b-e14a-4c42-ae16-aba8ba6809f1"
      },
      "execution_count": null,
      "outputs": [
        {
          "output_type": "stream",
          "name": "stderr",
          "text": [
            "/usr/local/lib/python3.10/dist-packages/torchvision/models/_utils.py:208: UserWarning: The parameter 'pretrained' is deprecated since 0.13 and may be removed in the future, please use 'weights' instead.\n",
            "  warnings.warn(\n",
            "/usr/local/lib/python3.10/dist-packages/torchvision/models/_utils.py:223: UserWarning: Arguments other than a weight enum or `None` for 'weights' are deprecated since 0.13 and may be removed in the future. The current behavior is equivalent to passing `weights=ResNet152_Weights.IMAGENET1K_V1`. You can also use `weights=ResNet152_Weights.DEFAULT` to get the most up-to-date weights.\n",
            "  warnings.warn(msg)\n",
            "Downloading: \"https://download.pytorch.org/models/resnet152-394f9c45.pth\" to /root/.cache/torch/hub/checkpoints/resnet152-394f9c45.pth\n",
            "100%|██████████| 230M/230M [00:05<00:00, 43.1MB/s]\n"
          ]
        }
      ]
    },
    {
      "cell_type": "code",
      "source": [
        "# Training loop\n",
        "num_epochs = 10\n",
        "\n",
        "for epoch in range(num_epochs):\n",
        "    train_loss = 0.0\n",
        "    correct_predictions = 0\n",
        "\n",
        "    model_resnet.train()\n",
        "    for inputs, labels in dataloaders['train']:\n",
        "        inputs = inputs.to(device)\n",
        "        labels = labels.to(device)\n",
        "\n",
        "        optimizer.zero_grad()\n",
        "\n",
        "        outputs = model_resnet(inputs)\n",
        "        _, predicted = torch.max(outputs, 1)\n",
        "        correct_predictions += (predicted == labels).sum().item()\n",
        "\n",
        "        loss = criterion(outputs, labels)\n",
        "        loss.backward()\n",
        "        optimizer.step()\n",
        "\n",
        "        train_loss += loss.item()\n",
        "\n",
        "    train_loss /= len(dataloaders['train'].dataset)\n",
        "    train_accuracy = correct_predictions / len(dataloaders['train'].dataset)\n",
        "\n",
        "    # Evaluation loop\n",
        "    test_loss = 0.0\n",
        "    correct_predictions = 0\n",
        "\n",
        "    model_resnet.eval()\n",
        "    with torch.no_grad():\n",
        "        for inputs, labels in dataloaders['test']:\n",
        "            inputs = inputs.to(device)\n",
        "            labels = labels.to(device)\n",
        "\n",
        "            outputs = model_resnet(inputs)\n",
        "            _, predicted = torch.max(outputs, 1)\n",
        "            correct_predictions += (predicted == labels).sum().item()\n",
        "\n",
        "            loss = criterion(outputs, labels)\n",
        "            test_loss += loss.item()\n",
        "\n",
        "    test_loss /= len(dataloaders['test'].dataset)\n",
        "    test_accuracy = correct_predictions / len(dataloaders['test'].dataset)\n",
        "\n",
        "    # Print epoch statistics\n",
        "    print(f\"Epoch {epoch+1}/{num_epochs} - Training Loss: {train_loss:.4f} - Training Accuracy: {train_accuracy:.4f} - \"\n",
        "          f\"Test Loss: {test_loss:.4f} - Test Accuracy: {test_accuracy:.4f}\")\n"
      ],
      "metadata": {
        "colab": {
          "base_uri": "https://localhost:8080/"
        },
        "outputId": "6d2c0d02-04c6-4c1c-d0e9-0badb2d32b45",
        "id": "30L3gmPSTBdo"
      },
      "execution_count": null,
      "outputs": [
        {
          "output_type": "stream",
          "name": "stderr",
          "text": [
            "/usr/local/lib/python3.10/dist-packages/torch/utils/data/dataloader.py:560: UserWarning: This DataLoader will create 4 worker processes in total. Our suggested max number of worker in current system is 2, which is smaller than what this DataLoader is going to create. Please be aware that excessive worker creation might get DataLoader running slow or even freeze, lower the worker number to avoid potential slowness/freeze if necessary.\n",
            "  warnings.warn(_create_warning_msg(\n"
          ]
        },
        {
          "output_type": "stream",
          "name": "stdout",
          "text": [
            "Epoch 1/10 - Training Loss: 0.0133 - Training Accuracy: 0.7877 - Test Loss: 0.0089 - Test Accuracy: 0.8682\n",
            "Epoch 2/10 - Training Loss: 0.0096 - Training Accuracy: 0.8648 - Test Loss: 0.0080 - Test Accuracy: 0.8818\n",
            "Epoch 3/10 - Training Loss: 0.0087 - Training Accuracy: 0.8810 - Test Loss: 0.0079 - Test Accuracy: 0.8712\n",
            "Epoch 4/10 - Training Loss: 0.0081 - Training Accuracy: 0.8818 - Test Loss: 0.0083 - Test Accuracy: 0.8712\n",
            "Epoch 5/10 - Training Loss: 0.0071 - Training Accuracy: 0.9006 - Test Loss: 0.0078 - Test Accuracy: 0.8758\n",
            "Epoch 6/10 - Training Loss: 0.0068 - Training Accuracy: 0.9067 - Test Loss: 0.0079 - Test Accuracy: 0.8985\n",
            "Epoch 7/10 - Training Loss: 0.0054 - Training Accuracy: 0.9271 - Test Loss: 0.0077 - Test Accuracy: 0.8985\n",
            "Epoch 8/10 - Training Loss: 0.0053 - Training Accuracy: 0.9339 - Test Loss: 0.0080 - Test Accuracy: 0.8970\n",
            "Epoch 9/10 - Training Loss: 0.0050 - Training Accuracy: 0.9305 - Test Loss: 0.0078 - Test Accuracy: 0.8955\n",
            "Epoch 10/10 - Training Loss: 0.0045 - Training Accuracy: 0.9437 - Test Loss: 0.0092 - Test Accuracy: 0.8818\n"
          ]
        }
      ]
    },
    {
      "cell_type": "code",
      "source": [
        "# DenseNet201"
      ],
      "metadata": {
        "id": "t_TIRYK1RbFl"
      },
      "execution_count": null,
      "outputs": []
    },
    {
      "cell_type": "code",
      "source": [
        "import torch\n",
        "import torch.nn as nn\n",
        "import torch.optim as optim\n",
        "from torchvision.models import densenet201\n",
        "\n",
        "# Load the pre-trained DenseNet-201 model\n",
        "model_densenet = densenet201(pretrained=True)\n",
        "\n",
        "# Modify the last fully connected layer to match the number of classes in your problem\n",
        "num_features = model_densenet.classifier.in_features\n",
        "model_densenet.classifier = nn.Linear(num_features, 2)  # Replace num_classes with the number of classes in your problem\n",
        "\n",
        "# Define the loss function and optimizer\n",
        "criterion = nn.CrossEntropyLoss()\n",
        "optimizer = optim.SGD(model_densenet.parameters(), lr=0.001, momentum=0.9)\n",
        "\n",
        "# Move the model to the appropriate device (GPU or CPU)\n",
        "device = torch.device(\"cuda:0\" if torch.cuda.is_available() else \"cpu\")\n",
        "model_densenet = model_densenet.to(device)\n"
      ],
      "metadata": {
        "id": "mJLr7JNbYoY0"
      },
      "execution_count": null,
      "outputs": []
    },
    {
      "cell_type": "code",
      "source": [
        "# Training loop\n",
        "num_epochs = 10\n",
        "\n",
        "for epoch in range(num_epochs):\n",
        "    train_loss = 0.0\n",
        "    correct_predictions = 0\n",
        "\n",
        "    model_densenet.train()\n",
        "    for inputs, labels in dataloaders['train']:\n",
        "        inputs = inputs.to(device)\n",
        "        labels = labels.to(device)\n",
        "\n",
        "        optimizer.zero_grad()\n",
        "\n",
        "        outputs = model_densenet(inputs)\n",
        "        _, predicted = torch.max(outputs, 1)\n",
        "        correct_predictions += (predicted == labels).sum().item()\n",
        "\n",
        "        loss = criterion(outputs, labels)\n",
        "        loss.backward()\n",
        "        optimizer.step()\n",
        "\n",
        "        train_loss += loss.item()\n",
        "\n",
        "    train_loss /= len(dataloaders['train'].dataset)\n",
        "    train_accuracy = correct_predictions / len(dataloaders['train'].dataset)\n",
        "\n",
        "    # Evaluation loop\n",
        "    test_loss = 0.0\n",
        "    correct_predictions = 0\n",
        "\n",
        "    model_densenet.eval()\n",
        "    with torch.no_grad():\n",
        "        for inputs, labels in dataloaders['test']:\n",
        "            inputs = inputs.to(device)\n",
        "            labels = labels.to(device)\n",
        "\n",
        "            outputs = model_densenet(inputs)\n",
        "            _, predicted = torch.max(outputs, 1)\n",
        "            correct_predictions += (predicted == labels).sum().item()\n",
        "\n",
        "            loss = criterion(outputs, labels)\n",
        "            test_loss += loss.item()\n",
        "\n",
        "    test_loss /= len(dataloaders['test'].dataset)\n",
        "    test_accuracy = correct_predictions / len(dataloaders['test'].dataset)\n",
        "\n",
        "    # Print epoch statistics\n",
        "    print(f\"Epoch {epoch+1}/{num_epochs} - Training Loss: {train_loss:.4f} - Training Accuracy: {train_accuracy:.4f} - \"\n",
        "          f\"Test Loss: {test_loss:.4f} - Test Accuracy: {test_accuracy:.4f}\")\n"
      ],
      "metadata": {
        "colab": {
          "base_uri": "https://localhost:8080/"
        },
        "id": "HgxYFw4dYv-e",
        "outputId": "01431c97-b62d-49c8-f894-63b94f92478d"
      },
      "execution_count": null,
      "outputs": [
        {
          "output_type": "stream",
          "name": "stderr",
          "text": [
            "/usr/local/lib/python3.10/dist-packages/torch/utils/data/dataloader.py:560: UserWarning: This DataLoader will create 4 worker processes in total. Our suggested max number of worker in current system is 2, which is smaller than what this DataLoader is going to create. Please be aware that excessive worker creation might get DataLoader running slow or even freeze, lower the worker number to avoid potential slowness/freeze if necessary.\n",
            "  warnings.warn(_create_warning_msg(\n"
          ]
        },
        {
          "output_type": "stream",
          "name": "stdout",
          "text": [
            "Epoch 1/10 - Training Loss: 0.0136 - Training Accuracy: 0.7922 - Test Loss: 0.0102 - Test Accuracy: 0.8561\n",
            "Epoch 2/10 - Training Loss: 0.0100 - Training Accuracy: 0.8527 - Test Loss: 0.0089 - Test Accuracy: 0.8682\n",
            "Epoch 3/10 - Training Loss: 0.0085 - Training Accuracy: 0.8716 - Test Loss: 0.0087 - Test Accuracy: 0.8682\n",
            "Epoch 4/10 - Training Loss: 0.0084 - Training Accuracy: 0.8825 - Test Loss: 0.0079 - Test Accuracy: 0.8803\n",
            "Epoch 5/10 - Training Loss: 0.0069 - Training Accuracy: 0.9037 - Test Loss: 0.0076 - Test Accuracy: 0.8894\n",
            "Epoch 6/10 - Training Loss: 0.0065 - Training Accuracy: 0.9090 - Test Loss: 0.0078 - Test Accuracy: 0.8970\n",
            "Epoch 7/10 - Training Loss: 0.0058 - Training Accuracy: 0.9210 - Test Loss: 0.0077 - Test Accuracy: 0.8970\n",
            "Epoch 8/10 - Training Loss: 0.0052 - Training Accuracy: 0.9316 - Test Loss: 0.0074 - Test Accuracy: 0.8970\n",
            "Epoch 9/10 - Training Loss: 0.0049 - Training Accuracy: 0.9324 - Test Loss: 0.0089 - Test Accuracy: 0.8894\n",
            "Epoch 10/10 - Training Loss: 0.0050 - Training Accuracy: 0.9328 - Test Loss: 0.0087 - Test Accuracy: 0.8924\n"
          ]
        }
      ]
    },
    {
      "cell_type": "code",
      "source": [
        "##Efficient-B6"
      ],
      "metadata": {
        "id": "_RNfZ5WdZinC"
      },
      "execution_count": null,
      "outputs": []
    },
    {
      "cell_type": "code",
      "source": [
        "import torch\n",
        "import torch.nn as nn\n",
        "import torch.optim as optim\n",
        "from torchvision.models import efficientnet_b6\n",
        "\n",
        "# Load the pre-trained EfficientNet-B6 model\n",
        "model_efficientnet = efficientnet_b6(pretrained=True)\n",
        "\n",
        "# Modify the last fully connected layer to match the number of classes in your problem\n",
        "num_features = model_efficientnet.classifier[1].in_features\n",
        "model_efficientnet._fc = nn.Linear(num_features, 2)  # Replace num_classes with the number of classes in your problem\n",
        "\n",
        "# Define the loss function and optimizer\n",
        "criterion = nn.CrossEntropyLoss()\n",
        "optimizer = optim.SGD(model_efficientnet.parameters(), lr=0.001, momentum=0.9)\n",
        "\n",
        "# Move the model to the appropriate device (GPU or CPU)\n",
        "device = torch.device(\"cuda:0\" if torch.cuda.is_available() else \"cpu\")\n",
        "model_efficientnet = model_efficientnet.to(device)"
      ],
      "metadata": {
        "id": "EGmBCHTpbw7d"
      },
      "execution_count": null,
      "outputs": []
    },
    {
      "cell_type": "code",
      "source": [
        "# Training loop\n",
        "num_epochs = 10\n",
        "\n",
        "for epoch in range(num_epochs):\n",
        "    train_loss = 0.0\n",
        "    correct_predictions = 0\n",
        "\n",
        "    model_efficientnet.train()\n",
        "    for inputs, labels in dataloaders['train']:\n",
        "        inputs = inputs.to(device)\n",
        "        labels = labels.to(device)\n",
        "\n",
        "        optimizer.zero_grad()\n",
        "\n",
        "        outputs = model_efficientnet(inputs)\n",
        "        _, predicted = torch.max(outputs, 1)\n",
        "        correct_predictions += (predicted == labels).sum().item()\n",
        "\n",
        "        loss = criterion(outputs, labels)\n",
        "        loss.backward()\n",
        "        optimizer.step()\n",
        "\n",
        "        train_loss += loss.item()\n",
        "\n",
        "    train_loss /= len(dataloaders['train'].dataset)\n",
        "    train_accuracy = correct_predictions / len(dataloaders['train'].dataset)\n",
        "\n",
        "    # Evaluation loop\n",
        "    test_loss = 0.0\n",
        "    correct_predictions = 0\n",
        "\n",
        "    model_efficientnet.eval()\n",
        "    with torch.no_grad():\n",
        "        for inputs, labels in dataloaders['test']:\n",
        "            inputs = inputs.to(device)\n",
        "            labels = labels.to(device)\n",
        "\n",
        "            outputs = model_efficientnet(inputs)\n",
        "            _, predicted = torch.max(outputs, 1)\n",
        "            correct_predictions += (predicted == labels).sum().item()\n",
        "\n",
        "            loss = criterion(outputs, labels)\n",
        "            test_loss += loss.item()\n",
        "\n",
        "    test_loss /= len(dataloaders['test'].dataset)\n",
        "    test_accuracy = correct_predictions / len(dataloaders['test'].dataset)\n",
        "\n",
        "    # Print epoch statistics\n",
        "    print(f\"Epoch {epoch+1}/{num_epochs} - Training Loss: {train_loss:.4f} - Training Accuracy: {train_accuracy:.4f} - \"\n",
        "          f\"Test Loss: {test_loss:.4f} - Test Accuracy: {test_accuracy:.4f}\")"
      ],
      "metadata": {
        "colab": {
          "base_uri": "https://localhost:8080/"
        },
        "id": "Si5dtybFcmdu",
        "outputId": "18bedc71-6868-47e8-c9f6-bfbbefc86a29"
      },
      "execution_count": null,
      "outputs": [
        {
          "output_type": "stream",
          "name": "stdout",
          "text": [
            "Epoch 1/10 - Training Loss: 0.1991 - Training Accuracy: 0.0740 - Test Loss: 0.1689 - Test Accuracy: 0.0545\n",
            "Epoch 2/10 - Training Loss: 0.0753 - Training Accuracy: 0.6808 - Test Loss: 0.0348 - Test Accuracy: 0.7515\n",
            "Epoch 3/10 - Training Loss: 0.0323 - Training Accuracy: 0.8141 - Test Loss: 0.0183 - Test Accuracy: 0.7939\n",
            "Epoch 4/10 - Training Loss: 0.0178 - Training Accuracy: 0.8349 - Test Loss: 0.0132 - Test Accuracy: 0.8455\n",
            "Epoch 5/10 - Training Loss: 0.0143 - Training Accuracy: 0.8326 - Test Loss: 0.0116 - Test Accuracy: 0.8333\n",
            "Epoch 6/10 - Training Loss: 0.0127 - Training Accuracy: 0.8330 - Test Loss: 0.0113 - Test Accuracy: 0.8530\n",
            "Epoch 7/10 - Training Loss: 0.0117 - Training Accuracy: 0.8459 - Test Loss: 0.0106 - Test Accuracy: 0.8576\n",
            "Epoch 8/10 - Training Loss: 0.0111 - Training Accuracy: 0.8549 - Test Loss: 0.0105 - Test Accuracy: 0.8591\n",
            "Epoch 9/10 - Training Loss: 0.0103 - Training Accuracy: 0.8557 - Test Loss: 0.0101 - Test Accuracy: 0.8576\n",
            "Epoch 10/10 - Training Loss: 0.0102 - Training Accuracy: 0.8538 - Test Loss: 0.0098 - Test Accuracy: 0.8636\n"
          ]
        }
      ]
    },
    {
      "cell_type": "code",
      "source": [
        "##VGG19"
      ],
      "metadata": {
        "id": "Y69QoX1gcZZO"
      },
      "execution_count": null,
      "outputs": []
    },
    {
      "cell_type": "code",
      "source": [
        "import torch\n",
        "import torch.nn as nn\n",
        "import torch.optim as optim\n",
        "from torchvision.models import vgg19\n",
        "\n",
        "# Load the pre-trained VGG-19 model\n",
        "model_vgg = vgg19(pretrained=True)\n",
        "\n",
        "# Modify the last fully connected layer to match the number of classes in your problem\n",
        "num_features = model_vgg.classifier[-1].in_features\n",
        "num_classes = 2  # Replace with the number of classes in your problem\n",
        "model_vgg.classifier[-1] = nn.Linear(num_features, num_classes)\n",
        "\n",
        "# Define the loss function and optimizer\n",
        "criterion = nn.CrossEntropyLoss()\n",
        "optimizer = optim.SGD(model_vgg.parameters(), lr=0.001, momentum=0.9)\n",
        "\n",
        "# Move the model to the appropriate device (GPU or CPU)\n",
        "device = torch.device(\"cuda:0\" if torch.cuda.is_available() else \"cpu\")\n",
        "model_vgg = model_vgg.to(device)\n",
        "\n",
        "# Training loop\n",
        "num_epochs = 10\n",
        "\n",
        "for epoch in range(num_epochs):\n",
        "    train_loss = 0.0\n",
        "    correct_predictions = 0\n",
        "\n",
        "    model_vgg.train()\n",
        "    for inputs, labels in dataloaders['train']:\n",
        "        inputs = inputs.to(device)\n",
        "        labels = labels.to(device)\n",
        "\n",
        "        optimizer.zero_grad()\n",
        "\n",
        "        outputs = model_vgg(inputs)\n",
        "        _, predicted = torch.max(outputs, 1)\n",
        "        correct_predictions += (predicted == labels).sum().item()\n",
        "\n",
        "        loss = criterion(outputs, labels)\n",
        "        loss.backward()\n",
        "        optimizer.step()\n",
        "\n",
        "        train_loss += loss.item()\n",
        "\n",
        "    train_loss /= len(dataloaders['train'].dataset)\n",
        "    train_accuracy = correct_predictions / len(dataloaders['train'].dataset)\n",
        "\n",
        "    # Evaluation loop\n",
        "    test_loss = 0.0\n",
        "    correct_predictions = 0\n",
        "\n",
        "    model_vgg.eval()\n",
        "    with torch.no_grad():\n",
        "        for inputs, labels in dataloaders['test']:\n",
        "            inputs = inputs.to(device)\n",
        "            labels = labels.to(device)\n",
        "\n",
        "            outputs = model_vgg(inputs)\n",
        "            _, predicted = torch.max(outputs, 1)\n",
        "            correct_predictions += (predicted == labels).sum().item()\n",
        "\n",
        "            loss = criterion(outputs, labels)\n",
        "            test_loss += loss.item()\n",
        "\n",
        "    test_loss /= len(dataloaders['test'].dataset)\n",
        "    test_accuracy = correct_predictions / len(dataloaders['test'].dataset)\n",
        "\n",
        "    # Print epoch statistics\n",
        "    print(f\"Epoch {epoch+1}/{num_epochs} - Training Loss: {train_loss:.4f} - Training Accuracy: {train_accuracy:.4f} - \"\n",
        "          f\"Test Loss: {test_loss:.4f} - Test Accuracy: {test_accuracy:.4f}\")\n"
      ],
      "metadata": {
        "colab": {
          "base_uri": "https://localhost:8080/"
        },
        "id": "m2gVWHaSnRg6",
        "outputId": "7aa87a0d-e145-4b69-e6d2-3ee1c259fdb2"
      },
      "execution_count": null,
      "outputs": [
        {
          "output_type": "stream",
          "name": "stderr",
          "text": [
            "/usr/local/lib/python3.10/dist-packages/torchvision/models/_utils.py:223: UserWarning: Arguments other than a weight enum or `None` for 'weights' are deprecated since 0.13 and may be removed in the future. The current behavior is equivalent to passing `weights=VGG19_Weights.IMAGENET1K_V1`. You can also use `weights=VGG19_Weights.DEFAULT` to get the most up-to-date weights.\n",
            "  warnings.warn(msg)\n",
            "Downloading: \"https://download.pytorch.org/models/vgg19-dcbb9e9d.pth\" to /root/.cache/torch/hub/checkpoints/vgg19-dcbb9e9d.pth\n",
            "100%|██████████| 548M/548M [00:11<00:00, 52.2MB/s]\n"
          ]
        },
        {
          "output_type": "stream",
          "name": "stdout",
          "text": [
            "Epoch 1/10 - Training Loss: 0.0137 - Training Accuracy: 0.7828 - Test Loss: 0.0110 - Test Accuracy: 0.8364\n",
            "Epoch 2/10 - Training Loss: 0.0114 - Training Accuracy: 0.8258 - Test Loss: 0.0101 - Test Accuracy: 0.8409\n",
            "Epoch 3/10 - Training Loss: 0.0101 - Training Accuracy: 0.8474 - Test Loss: 0.0096 - Test Accuracy: 0.8712\n",
            "Epoch 4/10 - Training Loss: 0.0095 - Training Accuracy: 0.8632 - Test Loss: 0.0093 - Test Accuracy: 0.8561\n",
            "Epoch 5/10 - Training Loss: 0.0088 - Training Accuracy: 0.8772 - Test Loss: 0.0107 - Test Accuracy: 0.8242\n",
            "Epoch 6/10 - Training Loss: 0.0087 - Training Accuracy: 0.8734 - Test Loss: 0.0089 - Test Accuracy: 0.8652\n",
            "Epoch 7/10 - Training Loss: 0.0086 - Training Accuracy: 0.8738 - Test Loss: 0.0084 - Test Accuracy: 0.8606\n",
            "Epoch 8/10 - Training Loss: 0.0088 - Training Accuracy: 0.8689 - Test Loss: 0.0087 - Test Accuracy: 0.8636\n",
            "Epoch 9/10 - Training Loss: 0.0080 - Training Accuracy: 0.8806 - Test Loss: 0.0080 - Test Accuracy: 0.8879\n",
            "Epoch 10/10 - Training Loss: 0.0078 - Training Accuracy: 0.8840 - Test Loss: 0.0092 - Test Accuracy: 0.8485\n"
          ]
        }
      ]
    },
    {
      "cell_type": "code",
      "source": [
        "##Increase Accuracy of DenseNet-121"
      ],
      "metadata": {
        "id": "9Ag4m3Y3uY-o"
      },
      "execution_count": null,
      "outputs": []
    },
    {
      "cell_type": "code",
      "source": [
        "import torch\n",
        "import torch.nn as nn\n",
        "import torch.optim as optim\n",
        "from torchvision import datasets, models, transforms\n",
        "import matplotlib.pyplot as plt\n",
        "\n",
        "# Define DenseNet-121 architecture\n",
        "model = models.densenet121(pretrained=True)\n",
        "num_features = model.classifier.in_features\n",
        "model.classifier = nn.Linear(num_features, 2)  # Assuming 2 classes (benign and malignant)\n",
        "\n",
        "# Define loss function and optimizer\n",
        "criterion = nn.CrossEntropyLoss()\n",
        "optimizer = optim.SGD(model.parameters(), lr=0.001, momentum=0.9)\n",
        "\n",
        "# Training the model\n",
        "device = torch.device(\"cuda:0\" if torch.cuda.is_available() else \"cpu\")\n",
        "model = model.to(device)\n",
        "\n",
        "num_epochs = 10  # Adjust as needed\n",
        "train_losses = []\n",
        "test_accuracies = []\n",
        "\n",
        "for epoch in range(num_epochs):\n",
        "    print(f\"Epoch {epoch+1}/{num_epochs}\")\n",
        "    print(\"-\" * 10)\n",
        "\n",
        "    # Training phase\n",
        "    model.train()\n",
        "    running_loss = 0.0\n",
        "\n",
        "    for inputs, labels in dataloaders['train']:\n",
        "        inputs = inputs.to(device)\n",
        "        labels = labels.to(device)\n",
        "\n",
        "        optimizer.zero_grad()\n",
        "\n",
        "        outputs = model(inputs)\n",
        "        loss = criterion(outputs, labels)\n",
        "        loss.backward()\n",
        "        optimizer.step()\n",
        "\n",
        "        running_loss += loss.item()\n",
        "\n",
        "    # Calculate average training loss\n",
        "    train_loss = running_loss / len(dataloaders['train'])\n",
        "    train_losses.append(train_loss)\n",
        "\n",
        "    # Evaluation phase\n",
        "    model.eval()\n",
        "    correct_predictions = 0\n",
        "\n",
        "    with torch.no_grad():\n",
        "        for inputs, labels in dataloaders['test']:\n",
        "            inputs = inputs.to(device)\n",
        "            labels = labels.to(device)\n",
        "\n",
        "            outputs = model(inputs)\n",
        "            _, predicted = torch.max(outputs, 1)\n",
        "            correct_predictions += (predicted == labels).sum().item()\n",
        "\n",
        "    # Calculate accuracy on the test set\n",
        "    accuracy = correct_predictions / len(dataloaders['test'].dataset)\n",
        "    test_accuracies.append(accuracy)\n",
        "\n",
        "    # Print the training loss and test accuracy for each epoch\n",
        "    print(f\"Training Loss: {train_loss:.4f}   Test Accuracy: {accuracy:.4f}\")\n",
        "\n",
        "# Plot epoch vs accuracy and epoch vs loss\n",
        "plt.figure(figsize=(10, 5))\n",
        "plt.subplot(1, 2, 1)\n",
        "plt.plot(range(1, num_epochs + 1), train_losses)\n",
        "plt.xlabel('Epoch')\n",
        "plt.ylabel('Training Loss')\n",
        "plt.title('Epoch vs Training Loss')\n",
        "\n",
        "plt.subplot(1, 2, 2)\n",
        "plt.plot(range(1, num_epochs + 1), test_accuracies)\n",
        "plt.xlabel('Epoch')\n",
        "plt.ylabel('Test Accuracy')\n",
        "plt.title('Epoch vs Test Accuracy')\n",
        "\n",
        "plt.tight_layout()\n",
        "plt.show()"
      ],
      "metadata": {
        "colab": {
          "base_uri": "https://localhost:8080/",
          "height": 1000
        },
        "id": "BqRHaxKgw_df",
        "outputId": "9d5d9c81-495e-4e12-a776-6b3345a2c949"
      },
      "execution_count": null,
      "outputs": [
        {
          "output_type": "stream",
          "name": "stdout",
          "text": [
            "Epoch 1/10\n",
            "----------\n",
            "Training Loss: 0.4456   Test Accuracy: 0.8333\n",
            "Epoch 2/10\n",
            "----------\n",
            "Training Loss: 0.3216   Test Accuracy: 0.8833\n",
            "Epoch 3/10\n",
            "----------\n",
            "Training Loss: 0.3016   Test Accuracy: 0.8742\n",
            "Epoch 4/10\n",
            "----------\n",
            "Training Loss: 0.2529   Test Accuracy: 0.8712\n",
            "Epoch 5/10\n",
            "----------\n",
            "Training Loss: 0.2441   Test Accuracy: 0.8712\n",
            "Epoch 6/10\n",
            "----------\n",
            "Training Loss: 0.2180   Test Accuracy: 0.8727\n",
            "Epoch 7/10\n",
            "----------\n",
            "Training Loss: 0.2253   Test Accuracy: 0.8818\n",
            "Epoch 8/10\n",
            "----------\n",
            "Training Loss: 0.2109   Test Accuracy: 0.8758\n",
            "Epoch 9/10\n",
            "----------\n",
            "Training Loss: 0.2011   Test Accuracy: 0.8939\n",
            "Epoch 10/10\n",
            "----------\n",
            "Training Loss: 0.1748   Test Accuracy: 0.9045\n"
          ]
        },
        {
          "output_type": "display_data",
          "data": {
            "text/plain": [
              "<Figure size 1000x500 with 2 Axes>"
            ],
            "image/png": "[encoded data removed]"
          },
          "metadata": {}
        }
      ]
    },
    {
      "cell_type": "code",
      "source": [],
      "metadata": {
        "id": "V4g2GANYxAS9"
      },
      "execution_count": null,
      "outputs": []
    }
  ]
}